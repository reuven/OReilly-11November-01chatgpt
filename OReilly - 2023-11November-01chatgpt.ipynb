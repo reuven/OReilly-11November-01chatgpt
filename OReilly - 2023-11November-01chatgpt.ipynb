{
 "cells": [
  {
   "cell_type": "markdown",
   "metadata": {},
   "source": [
    "# Agenda: Pair Programming with ChatGPT\n",
    "\n",
    "- What is pair programming?\n",
    "- Intro to ChatGPT\n",
    "- Checking, and exploring coding with ChatGPT\n",
    "- Develop an application\n",
    "    - Different styles of pair programming\n",
    "    - Getting feedback from the program\n",
    "    - Making things better incrementally\n",
    "- Adding tests\n",
    "- Making the output nicer\n",
    "- ChatGPT and the future of programming\n",
    "- "
   ]
  },
  {
   "cell_type": "markdown",
   "metadata": {},
   "source": [
    "# Pair programming\n",
    "\n",
    "Most of us think that programming is a solo activity. But we also know that when you have to teach, or explain something, you understand it better. Pair programming is all about improving how the coding happens -- both the process and the validation and the readability/maintainability by having two people work on a single computer.\n",
    "\n",
    "People are often resistant to using pair programming. IN the workplace, it can be a real drag.\n",
    "\n",
    "But ChatGPT opens the door to pair programming without another human!"
   ]
  }
 ],
 "metadata": {
  "kernelspec": {
   "display_name": "Python 3 (ipykernel)",
   "language": "python",
   "name": "python3"
  },
  "language_info": {
   "codemirror_mode": {
    "name": "ipython",
    "version": 3
   },
   "file_extension": ".py",
   "mimetype": "text/x-python",
   "name": "python",
   "nbconvert_exporter": "python",
   "pygments_lexer": "ipython3",
   "version": "3.11.6"
  }
 },
 "nbformat": 4,
 "nbformat_minor": 4
}
