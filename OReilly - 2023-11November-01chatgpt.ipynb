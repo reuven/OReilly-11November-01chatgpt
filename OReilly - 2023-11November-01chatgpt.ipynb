{
 "cells": [
  {
   "cell_type": "markdown",
   "metadata": {},
   "source": [
    "# Agenda: Pair Programming with ChatGPT\n",
    "\n",
    "- What is pair programming?\n",
    "- Intro to ChatGPT\n",
    "- Checking, and exploring coding with ChatGPT\n",
    "- Develop an application\n",
    "    - Different styles of pair programming\n",
    "    - Getting feedback from the program\n",
    "    - Making things better incrementally\n",
    "- Adding tests\n",
    "- Making the output nicer\n",
    "- ChatGPT and the future of programming\n",
    "- "
   ]
  },
  {
   "cell_type": "markdown",
   "metadata": {},
   "source": [
    "# Pair programming\n",
    "\n",
    "Most of us think that programming is a solo activity. But we also know that when you have to teach, or explain something, you understand it better. Pair programming is all about improving how the coding happens -- both the process and the validation and the readability/maintainability by having two people work on a single computer.\n",
    "\n",
    "People are often resistant to using pair programming. IN the workplace, it can be a real drag.\n",
    "\n",
    "But ChatGPT opens the door to pair programming without another human!"
   ]
  },
  {
   "cell_type": "markdown",
   "metadata": {},
   "source": [
    "# What is ChatGPT?\n",
    "\n",
    "Large-language model -- it's based on machine learning. The idea is that if you \"train\" a machine-learning model, it will see patterns. When you ask it to classify an image or text, it'll look at its library of patterns, and based on that make decisions and produce output.  ChatGPT is what's known as \"generative\" AI -- it doesn't only know how to classify things, but it also knows how to create things, especially text.\n",
    "\n",
    "If I ask it to write a Python program on a given subject, it'll find all of the information it has on that subject and on Python, and then it'll start to write. It'll produce one word, then figure out what is the most likely next word it should show, then what is the most likely next word it should show after that, etc. etc. etc. \n",
    "\n"
   ]
  },
  {
   "cell_type": "code",
   "execution_count": 1,
   "metadata": {},
   "outputs": [],
   "source": [
    "def celsius_to_fahrenheit(celsius):\n",
    "    return (celsius * 9/5) + 32\n",
    "\n",
    "def main():\n",
    "    # Get input from the user\n",
    "    celsius = float(input(\"Enter temperature in Celsius: \"))\n",
    "    \n",
    "    # Convert to Fahrenheit\n",
    "    fahrenheit = celsius_to_fahrenheit(celsius)\n",
    "    \n",
    "    # Display the result\n",
    "    print(f\"{celsius}°C is equivalent to {fahrenheit}°F\")\n",
    "\n"
   ]
  },
  {
   "cell_type": "code",
   "execution_count": 2,
   "metadata": {},
   "outputs": [
    {
     "name": "stdin",
     "output_type": "stream",
     "text": [
      "Enter temperature in Celsius:  24\n"
     ]
    },
    {
     "name": "stdout",
     "output_type": "stream",
     "text": [
      "24.0°C is equivalent to 75.2°F\n"
     ]
    }
   ],
   "source": [
    "main()"
   ]
  },
  {
   "cell_type": "markdown",
   "metadata": {},
   "source": [
    "# Conversation is the key!\n",
    "\n",
    "- You need to know what questions to ask\n",
    "- You need to know how to evaluate the output that you get\n",
    "- You need to be skeptical, and constnatly thinking about what might have gone wrong"
   ]
  },
  {
   "cell_type": "markdown",
   "metadata": {},
   "source": [
    "# Example: Ubbi Dubbi translator\n",
    "\n",
    "Ubbi Dubbi is a children's \"secret\" language.  (I learned about this when I was a kid, watching the TV show \"Zoom.\")\n",
    "\n",
    "The rule is: To translate a word from English into Ubbi Dubbi, you put the syllable \"ub\" before each vowel.\n",
    "\n",
    "- milk -> mubilk\n",
    "- cookie -> cuboubokubiube\n",
    "- "
   ]
  }
 ],
 "metadata": {
  "kernelspec": {
   "display_name": "Python 3 (ipykernel)",
   "language": "python",
   "name": "python3"
  },
  "language_info": {
   "codemirror_mode": {
    "name": "ipython",
    "version": 3
   },
   "file_extension": ".py",
   "mimetype": "text/x-python",
   "name": "python",
   "nbconvert_exporter": "python",
   "pygments_lexer": "ipython3",
   "version": "3.11.6"
  }
 },
 "nbformat": 4,
 "nbformat_minor": 4
}
