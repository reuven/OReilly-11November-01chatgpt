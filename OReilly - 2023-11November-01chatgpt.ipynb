{
 "cells": [
  {
   "cell_type": "markdown",
   "metadata": {},
   "source": [
    "# Agenda: Pair Programming with ChatGPT\n",
    "\n",
    "- What is pair programming?\n",
    "- Intro to ChatGPT\n",
    "- Checking, and exploring coding with ChatGPT\n",
    "- Develop an application\n",
    "    - Different styles of pair programming\n",
    "    - Getting feedback from the program\n",
    "    - Making things better incrementally\n",
    "- Adding tests\n",
    "- Making the output nicer\n",
    "- ChatGPT and the future of programming\n",
    "- "
   ]
  },
  {
   "cell_type": "markdown",
   "metadata": {},
   "source": [
    "# Pair programming\n",
    "\n",
    "Most of us think that programming is a solo activity. But we also know that when you have to teach, or explain something, you understand it better. Pair programming is all about improving how the coding happens -- both the process and the validation and the readability/maintainability by having two people work on a single computer.\n",
    "\n",
    "People are often resistant to using pair programming. IN the workplace, it can be a real drag.\n",
    "\n",
    "But ChatGPT opens the door to pair programming without another human!"
   ]
  },
  {
   "cell_type": "markdown",
   "metadata": {},
   "source": [
    "# What is ChatGPT?\n",
    "\n",
    "Large-language model -- it's based on machine learning. The idea is that if you \"train\" a machine-learning model, it will see patterns. When you ask it to classify an image or text, it'll look at its library of patterns, and based on that make decisions and produce output.  ChatGPT is what's known as \"generative\" AI -- it doesn't only know how to classify things, but it also knows how to create things, especially text.\n",
    "\n",
    "If I ask it to write a Python program on a given subject, it'll find all of the information it has on that subject and on Python, and then it'll start to write. It'll produce one word, then figure out what is the most likely next word it should show, then what is the most likely next word it should show after that, etc. etc. etc. \n",
    "\n"
   ]
  },
  {
   "cell_type": "code",
   "execution_count": 1,
   "metadata": {},
   "outputs": [],
   "source": [
    "def celsius_to_fahrenheit(celsius):\n",
    "    return (celsius * 9/5) + 32\n",
    "\n",
    "def main():\n",
    "    # Get input from the user\n",
    "    celsius = float(input(\"Enter temperature in Celsius: \"))\n",
    "    \n",
    "    # Convert to Fahrenheit\n",
    "    fahrenheit = celsius_to_fahrenheit(celsius)\n",
    "    \n",
    "    # Display the result\n",
    "    print(f\"{celsius}°C is equivalent to {fahrenheit}°F\")\n",
    "\n"
   ]
  },
  {
   "cell_type": "code",
   "execution_count": 2,
   "metadata": {},
   "outputs": [
    {
     "name": "stdin",
     "output_type": "stream",
     "text": [
      "Enter temperature in Celsius:  24\n"
     ]
    },
    {
     "name": "stdout",
     "output_type": "stream",
     "text": [
      "24.0°C is equivalent to 75.2°F\n"
     ]
    }
   ],
   "source": [
    "main()"
   ]
  },
  {
   "cell_type": "markdown",
   "metadata": {},
   "source": [
    "# Conversation is the key!\n",
    "\n",
    "- You need to know what questions to ask\n",
    "- You need to know how to evaluate the output that you get\n",
    "- You need to be skeptical, and constnatly thinking about what might have gone wrong"
   ]
  },
  {
   "cell_type": "markdown",
   "metadata": {},
   "source": [
    "# Example: Ubbi Dubbi translator\n",
    "\n",
    "Ubbi Dubbi is a children's \"secret\" language.  (I learned about this when I was a kid, watching the TV show \"Zoom.\")\n",
    "\n",
    "The rule is: To translate a word from English into Ubbi Dubbi, you put the syllable \"ub\" before each vowel.\n",
    "\n",
    "- milk -> mubilk\n",
    "- cookie -> cuboubokubiube\n",
    "\n",
    "I want to write a program that asks the user for a word in English (all lowercase), and produces the translation into Ubbi Dubbi."
   ]
  },
  {
   "cell_type": "code",
   "execution_count": 3,
   "metadata": {},
   "outputs": [
    {
     "data": {
      "text/plain": [
       "'hubellubo'"
      ]
     },
     "execution_count": 3,
     "metadata": {},
     "output_type": "execute_result"
    }
   ],
   "source": [
    "def ubbi(word):\n",
    "    output = ''\n",
    "\n",
    "    for one_letter in word:\n",
    "        if one_letter in 'aeiou':\n",
    "            output += 'ub'\n",
    "        output += one_letter\n",
    "\n",
    "    return output\n",
    "\n",
    "ubbi('hello')"
   ]
  },
  {
   "cell_type": "code",
   "execution_count": null,
   "metadata": {},
   "outputs": [],
   "source": [
    "# let's make it more performant by using str.join\n",
    "\n",
    "def ubbi(word):\n",
    "    output = []\n",
    "\n",
    "    for one_letter in word.lower(): # force the word to be lowercase\n",
    "        if one_letter in 'aeiou':\n",
    "            output.append('ub')\n",
    "        output.append(one_letter)\n",
    "\n",
    "    return ''.join(output)\n",
    "\n",
    "ubbi('hello')"
   ]
  },
  {
   "cell_type": "code",
   "execution_count": 4,
   "metadata": {},
   "outputs": [
    {
     "data": {
      "text/plain": [
       "'hubellubouboubutthuberube'"
      ]
     },
     "execution_count": 4,
     "metadata": {},
     "output_type": "execute_result"
    }
   ],
   "source": [
    "# Now let's write a program that translates a sentence into Ubbi Dubbi\n",
    "\n",
    "def ubbi_sentence(sentence):\n",
    "    output = []\n",
    "\n",
    "    for one_word in sentence.split():\n",
    "        output.append(ubbi(one_word))\n",
    "\n",
    "    return ''.join(output)\n",
    "\n",
    "ubbi_sentence('hello out there')"
   ]
  },
  {
   "cell_type": "markdown",
   "metadata": {},
   "source": [
    "# Exercise: Pig Latin sentence\n",
    "\n",
    "Using the same sort of back-and-forth as I showed, write a Pig Latin translator.\n",
    "\n",
    "The rules for Pig Latin are:\n",
    "\n",
    "- If the word starts with a vowel, add `way`\n",
    "- Otherwise, move the first letter to the end, and add `ay`\n",
    "\n",
    "Examples:\n",
    "\n",
    "- elephant -> elephantway\n",
    "- computer -> omputercay\n",
    "- papaya -> apayapay\n",
    "- away -> awayway"
   ]
  },
  {
   "cell_type": "code",
   "execution_count": null,
   "metadata": {},
   "outputs": [],
   "source": [
    "def pl_sentence(sentence):\n",
    "    output = []\n",
    "\n",
    "    for one_word in sentence.split():\n",
    "        if one_word[0] in 'aeiou':\n",
    "            output.append(one_word + 'way')\n",
    "        else:\n",
    "            output.append(one_word[1:] + one_word[0] + 'ay')\n",
    "\n",
    "    return ' '.join(output)\n",
    "    "
   ]
  },
  {
   "cell_type": "markdown",
   "metadata": {},
   "source": [
    "# File size reporter\n",
    "\n",
    "I want to write a Python function that takes a list of filenames as inputs, and returns a dictionary. The dict keys will be the filenames, and the dict values will be the size of each file.\n",
    "\n",
    "Let's see what happens when I start to write my code, and when I throw it at ChatGPT to give me some feedback."
   ]
  },
  {
   "cell_type": "code",
   "execution_count": 5,
   "metadata": {},
   "outputs": [],
   "source": [
    "def file_sizes(filenames):\n",
    "    output = []   \n",
    "\n",
    "    for one_filename in filenames:\n",
    "        size = 0\n",
    "        for one_line in open(one_filename):\n",
    "            size += len(one_line)\n",
    "\n",
    "        output[one_filename] = size\n",
    "\n",
    "    return output"
   ]
  },
  {
   "cell_type": "code",
   "execution_count": 6,
   "metadata": {},
   "outputs": [],
   "source": [
    "def file_sizes(filenames):\n",
    "    output = {}   # Initialize as a dictionary\n",
    "\n",
    "    for one_filename in filenames:\n",
    "        try:\n",
    "            with open(one_filename, 'r') as file:\n",
    "                size = 0\n",
    "                for one_line in file:\n",
    "                    size += len(one_line)\n",
    "                output[one_filename] = size\n",
    "        except FileNotFoundError:\n",
    "            print(f\"File {one_filename} not found.\")\n",
    "            output[one_filename] = None\n",
    "\n",
    "    return output\n"
   ]
  },
  {
   "cell_type": "code",
   "execution_count": null,
   "metadata": {},
   "outputs": [],
   "source": [
    "# what about binary files? (It'll get that wrong, because those are binary, vs. characters)\n",
    "# what about files we don't have permission to read?"
   ]
  },
  {
   "cell_type": "markdown",
   "metadata": {},
   "source": [
    "# Exercise: Longest word\n",
    "\n",
    "Write a function that takes a filename as an input, and returns the longest word in the file. We can assume that the file contains text. It's OK if the \"word\" includes punctuation, although if you want to trim that from the sides of the word, that's OK as well.\n",
    "\n"
   ]
  },
  {
   "cell_type": "code",
   "execution_count": 7,
   "metadata": {},
   "outputs": [],
   "source": [
    "def longest_word(filename):\n",
    "    output = ''\n",
    "    \n",
    "    for one_line in open(filename):\n",
    "        for one_word in one_line.split():\n",
    "            if len(one_word) > len(output):\n",
    "                output = one_word\n",
    "\n",
    "    return output\n",
    "        "
   ]
  },
  {
   "cell_type": "markdown",
   "metadata": {},
   "source": [
    "# Next up\n",
    "\n",
    "We'll write a full-fledged application that retrieves data from the OpenWeatherMap API.  (It's free.)\n",
    "\n",
    "- Command-line application\n",
    "- Several functions\n"
   ]
  },
  {
   "cell_type": "markdown",
   "metadata": {},
   "source": [
    "Let's create a program \"compare_weather\" that will let me enter two city names, and will tell me the weather in both places, as well as the difference between those forecasts -- at least for temperature, humidity, and precipitation.\n",
    "\n",
    "First, let's come up with a plan.  What if I write a program that does the following:\n",
    "\n",
    "1. Gets the current and destination cities from the user.\n",
    "2. Get the weather for my current city, and put into a data structure.\n",
    "3. Get the weather for the destination city, and put into a data structure.\n",
    "4. Compare the two weather reports, and put into a third data structure.\n",
    "5. Pass all three data structures to a function that displays them nicely for the user."
   ]
  },
  {
   "cell_type": "code",
   "execution_count": 8,
   "metadata": {},
   "outputs": [
    {
     "ename": "NameError",
     "evalue": "name 'api_key' is not defined",
     "output_type": "error",
     "traceback": [
      "\u001b[1;31m---------------------------------------------------------------------------\u001b[0m",
      "\u001b[1;31mNameError\u001b[0m                                 Traceback (most recent call last)",
      "Cell \u001b[1;32mIn[8], line 9\u001b[0m\n\u001b[0;32m      4\u001b[0m \u001b[38;5;28;01mimport\u001b[39;00m \u001b[38;5;21;01mrequests\u001b[39;00m    \u001b[38;5;66;03m# this is a very popular Python package for HTTP requests \u001b[39;00m\n\u001b[0;32m      6\u001b[0m base_url \u001b[38;5;241m=\u001b[39m \u001b[38;5;124m\"\u001b[39m\u001b[38;5;124mhttp://api.openweathermap.org/data/2.5/weather\u001b[39m\u001b[38;5;124m\"\u001b[39m\n\u001b[0;32m      8\u001b[0m params \u001b[38;5;241m=\u001b[39m {\u001b[38;5;124m'\u001b[39m\u001b[38;5;124mq\u001b[39m\u001b[38;5;124m'\u001b[39m: \u001b[38;5;124m'\u001b[39m\u001b[38;5;124mChicago\u001b[39m\u001b[38;5;124m'\u001b[39m,\n\u001b[1;32m----> 9\u001b[0m           \u001b[38;5;124m'\u001b[39m\u001b[38;5;124mappid\u001b[39m\u001b[38;5;124m'\u001b[39m: \u001b[43mapi_key\u001b[49m,\n\u001b[0;32m     10\u001b[0m           \u001b[38;5;124m'\u001b[39m\u001b[38;5;124munits\u001b[39m\u001b[38;5;124m'\u001b[39m: metric}\n\u001b[0;32m     12\u001b[0m r \u001b[38;5;241m=\u001b[39m requests\u001b[38;5;241m.\u001b[39mget(base_url, params\u001b[38;5;241m=\u001b[39mparams)\n",
      "\u001b[1;31mNameError\u001b[0m: name 'api_key' is not defined"
     ]
    }
   ],
   "source": [
    "# how can I retrieve information about weather in a city?\n",
    "# answer I'll use: OpenWeatherMap \n",
    "\n",
    "import requests    # this is a very popular Python package for HTTP requests \n",
    "\n",
    "base_url = \"http://api.openweathermap.org/data/2.5/weather\"\n",
    "\n",
    "params = {'q': 'Chicago',\n",
    "          'appid': api_key,\n",
    "          'units': metric}\n",
    "\n",
    "r = requests.get(base_url, params=params)"
   ]
  },
  {
   "cell_type": "code",
   "execution_count": 5,
   "metadata": {},
   "outputs": [],
   "source": [
    "import requests\n",
    "import os\n",
    "\n",
    "def get_city_weather(city_name):\n",
    "\n",
    "    base_url = \"http://api.openweathermap.org/data/2.5/weather\"\n",
    "    api_key = os.environ.get(\"OPENWEATHER_API_KEY\")\n",
    "    \n",
    "    params = {\n",
    "        'q': city_name,\n",
    "        'appid': api_key,\n",
    "        'units': 'metric'\n",
    "    }\n",
    "    \n",
    "    try:\n",
    "        r = requests.get(base_url, params=params)\n",
    "        r.raise_for_status()  # Raise an error for bad responses\n",
    "        \n",
    "        data = r.json()\n",
    "        if 'main' in data:\n",
    "            temperature = data['main']['temp']\n",
    "            humidity = data['main']['humidity']\n",
    "            precipitation = data[\"rain\"][\"1h\"] if \"rain\" in data else 0  # Assumes rain data is in mm/h\n",
    "            \n",
    "            return {'temp':temperature, 'humidity':humidity, 'precipitation':precipitation}\n",
    "        else:\n",
    "            print(\"Error retrieving weather data.\")\n",
    "    \n",
    "    except requests.RequestException as e:\n",
    "        print(f\"Error fetching data from OpenWeatherMap: {e}\")\n"
   ]
  },
  {
   "cell_type": "code",
   "execution_count": 6,
   "metadata": {},
   "outputs": [
    {
     "data": {
      "text/plain": [
       "{'temp': 1.71, 'humidity': 76, 'precipitation': 0.76}"
      ]
     },
     "execution_count": 6,
     "metadata": {},
     "output_type": "execute_result"
    }
   ],
   "source": [
    "get_city_weather('Chicago')"
   ]
  },
  {
   "cell_type": "code",
   "execution_count": 16,
   "metadata": {},
   "outputs": [
    {
     "name": "stdin",
     "output_type": "stream",
     "text": [
      "Enter current city:  Boston\n",
      "Enter destination city:  San Francisco\n"
     ]
    },
    {
     "name": "stdout",
     "output_type": "stream",
     "text": [
      "Weather for Boston:\n",
      "Temperature: 6.42°C\n",
      "Humidity: 70%\n",
      "Precipitation: 0mm/h\n",
      "\n",
      "Weather for San Francisco:\n",
      "Temperature: 13.22°C\n",
      "Humidity: 67%\n",
      "Precipitation: 0mm/h\n",
      "\n",
      "Differences between the two cities:\n",
      "Temperature Difference: 6.800000000000001°C\n",
      "Humidity Difference: -3%\n",
      "Precipitation Difference: 0mm/h\n"
     ]
    }
   ],
   "source": [
    "# Gets the current and destination cities from the user.\n",
    "current_city = input('Enter current city: ').strip()\n",
    "destination_city = input('Enter destination city: ').strip()\n",
    "\n",
    "# Get the weather for my current city, and put into a data structure.\n",
    "current_weather = get_city_weather(current_city)\n",
    "\n",
    "# Get the weather for the destination city, and put into a data structure.\n",
    "destination_weather = get_city_weather(destination_city)\n",
    "\n",
    "# Compare the two weather reports, and put into a third data structure.\n",
    "def get_differences(current_weather, destination_weather):\n",
    "    # Check if there are errors in either of the weather data\n",
    "    if 'error' in current_weather:\n",
    "        return {'error': f\"Error in current city data: {current_weather['error']}\"}\n",
    "    if 'error' in destination_weather:\n",
    "        return {'error': f\"Error in destination city data: {destination_weather['error']}\"}\n",
    "\n",
    "    # Calculate differences\n",
    "    temp_difference = destination_weather['temp'] - current_weather['temp']\n",
    "    humidity_difference = destination_weather['humidity'] - current_weather['humidity']\n",
    "    precipitation_difference = destination_weather['precipitation'] - current_weather['precipitation']\n",
    "\n",
    "    # Return the differences as a dictionary\n",
    "    return {\n",
    "        'temp_diff': temp_difference,\n",
    "        'humidity_diff': humidity_difference,\n",
    "        'precipitation_diff': precipitation_difference\n",
    "    }\n",
    "\n",
    "# Using the function with your code\n",
    "differences = get_differences(current_weather, destination_weather)\n",
    "\n",
    "\n",
    "# Pass all three data structures to a function that displays them nicely for the user.\n",
    "def print_differences(current_city, current_weather, destination_city, destination_weather, differences):\n",
    "    print(f\"Weather for {current_city}:\")\n",
    "    print(f\"Temperature: {current_weather['temp']}°C\")\n",
    "    print(f\"Humidity: {current_weather['humidity']}%\")\n",
    "    print(f\"Precipitation: {current_weather['precipitation']}mm/h\\n\")\n",
    "\n",
    "    print(f\"Weather for {destination_city}:\")\n",
    "    print(f\"Temperature: {destination_weather['temp']}°C\")\n",
    "    print(f\"Humidity: {destination_weather['humidity']}%\")\n",
    "    print(f\"Precipitation: {destination_weather['precipitation']}mm/h\\n\")\n",
    "\n",
    "    print(\"Differences between the two cities:\")\n",
    "    print(f\"Temperature Difference: {differences['temp_diff']}°C\")\n",
    "    print(f\"Humidity Difference: {differences['humidity_diff']}%\")\n",
    "    print(f\"Precipitation Difference: {differences['precipitation_diff']}mm/h\")\n",
    "\n",
    "# Sample usage\n",
    "differences = get_differences(current_weather, destination_weather)\n",
    "print_differences(current_city, current_weather, destination_city, destination_weather, differences)"
   ]
  },
  {
   "cell_type": "code",
   "execution_count": 9,
   "metadata": {},
   "outputs": [
    {
     "data": {
      "text/plain": [
       "{'temp': 27.14, 'humidity': 65, 'precipitation': 0}"
      ]
     },
     "execution_count": 9,
     "metadata": {},
     "output_type": "execute_result"
    }
   ],
   "source": [
    "current_weather"
   ]
  },
  {
   "cell_type": "code",
   "execution_count": 10,
   "metadata": {},
   "outputs": [
    {
     "data": {
      "text/plain": [
       "{'temp': 6.37, 'humidity': 71, 'precipitation': 0}"
      ]
     },
     "execution_count": 10,
     "metadata": {},
     "output_type": "execute_result"
    }
   ],
   "source": [
    "destination_weather"
   ]
  },
  {
   "cell_type": "markdown",
   "metadata": {},
   "source": [
    "# Exercise: Make it a standalone program\n",
    "\n",
    "As things stand, our \"compare weather\" program sits in a few separate functions. Also, it asks the user for the city names via `input`.  Change the program, such that it is in a file on its own, and also gets the cities from the command line, using `argparse`.  The `-c` or `--current` option should allow you to specify the current city, and the `-d` or `--destination` option should allow you to specify the destination city.\n"
   ]
  },
  {
   "cell_type": "markdown",
   "metadata": {},
   "source": [
    "# Next"
   ]
  }
 ],
 "metadata": {
  "kernelspec": {
   "display_name": "Python 3 (ipykernel)",
   "language": "python",
   "name": "python3"
  },
  "language_info": {
   "codemirror_mode": {
    "name": "ipython",
    "version": 3
   },
   "file_extension": ".py",
   "mimetype": "text/x-python",
   "name": "python",
   "nbconvert_exporter": "python",
   "pygments_lexer": "ipython3",
   "version": "3.11.6"
  }
 },
 "nbformat": 4,
 "nbformat_minor": 4
}
